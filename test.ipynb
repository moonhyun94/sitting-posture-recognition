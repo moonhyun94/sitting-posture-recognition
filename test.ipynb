{
 "cells": [
  {
   "cell_type": "code",
   "execution_count": 3,
   "metadata": {},
   "outputs": [],
   "source": [
    "import torch\n",
    "from torch.nn import functional as F\n",
    "from models.feature_extractor import ConvMixerFeatureExtractor\n",
    "from models.motion_classifier import MotionClassifier\n",
    "from utils.data import CustomDataset\n",
    "from torch.utils.data import DataLoader\n",
    "from sklearn.metrics import accuracy_score"
   ]
  },
  {
   "cell_type": "code",
   "execution_count": 16,
   "metadata": {},
   "outputs": [],
   "source": [
    "\n",
    "@torch.no_grad()\n",
    "def test():\n",
    "    testset = CustomDataset(\"test\")\n",
    "    test_loader = DataLoader(testset, batch_size=8, num_workers=4)\n",
    "\n",
    "    feature_extractor = ConvMixerFeatureExtractor()\n",
    "    motion_classifier = MotionClassifier(feature_extractor).to(0)\n",
    "\n",
    "    motion_classifier.load_state_dict(torch.load(\"ckpts/motion_classifier_20220829.pt\")[\"motion_classifier\"])\n",
    "\n",
    "    motion_classifier.eval()\n",
    "\n",
    "    fusion_acc = 0.0\n",
    "    frame_acc = 0.0\n",
    "    sensor_acc = 0.0\n",
    "\n",
    "    for frames, sensors, labels in test_loader:\n",
    "        frames = frames.to(0)\n",
    "        sensors = sensors.to(0)\n",
    "        labels = labels.long().to(0)\n",
    "\n",
    "        result =  motion_classifier(frames, sensors)\n",
    "\n",
    "        fusion_preds = result[\"logits\"].argmax(dim=1).cpu().numpy()\n",
    "        frame_preds = result[\"image_motion_logits\"].argmax(dim=1).cpu().numpy()\n",
    "        sensor_preds = result[\"sensor_motion_logits\"].argmax(dim=1).cpu().numpy()\n",
    "\n",
    "        fusion_acc += accuracy_score(labels.cpu().numpy(), fusion_preds) / len(test_loader)\n",
    "        frame_acc += accuracy_score(labels.cpu().numpy(), frame_preds) / len(test_loader)\n",
    "        sensor_acc += accuracy_score(labels.cpu().numpy(), sensor_preds) / len(test_loader)\n",
    "\n",
    "    return fusion_acc, frame_acc, sensor_acc"
   ]
  },
  {
   "cell_type": "code",
   "execution_count": 17,
   "metadata": {},
   "outputs": [
    {
     "data": {
      "text/plain": [
       "(0.9375, 0.78125, 0.84375)"
      ]
     },
     "execution_count": 17,
     "metadata": {},
     "output_type": "execute_result"
    }
   ],
   "source": [
    "test()"
   ]
  },
  {
   "cell_type": "code",
   "execution_count": null,
   "metadata": {},
   "outputs": [],
   "source": []
  }
 ],
 "metadata": {
  "kernelspec": {
   "display_name": "Python 3.8.13 ('torch')",
   "language": "python",
   "name": "python3"
  },
  "language_info": {
   "codemirror_mode": {
    "name": "ipython",
    "version": 3
   },
   "file_extension": ".py",
   "mimetype": "text/x-python",
   "name": "python",
   "nbconvert_exporter": "python",
   "pygments_lexer": "ipython3",
   "version": "3.8.13"
  },
  "orig_nbformat": 4,
  "vscode": {
   "interpreter": {
    "hash": "cf8dc2bd8c9a6cf8b1b2d240622c68735699ce3e92c67e80c154b0de046ace10"
   }
  }
 },
 "nbformat": 4,
 "nbformat_minor": 2
}
