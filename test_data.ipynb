{
 "cells": [
  {
   "cell_type": "code",
   "execution_count": 1,
   "metadata": {},
   "outputs": [],
   "source": [
    "import matplotlib.pyplot as plt\n",
    "import numpy as np\n",
    "import pandas as pd"
   ]
  },
  {
   "cell_type": "code",
   "execution_count": 14,
   "metadata": {},
   "outputs": [],
   "source": [
    "df = pd.read_csv(\"/data/lab_action/sensor_csv/A0_가욤_1.csv\")"
   ]
  },
  {
   "cell_type": "code",
   "execution_count": 15,
   "metadata": {},
   "outputs": [
    {
     "data": {
      "text/html": [
       "<div>\n",
       "<style scoped>\n",
       "    .dataframe tbody tr th:only-of-type {\n",
       "        vertical-align: middle;\n",
       "    }\n",
       "\n",
       "    .dataframe tbody tr th {\n",
       "        vertical-align: top;\n",
       "    }\n",
       "\n",
       "    .dataframe thead th {\n",
       "        text-align: right;\n",
       "    }\n",
       "</style>\n",
       "<table border=\"1\" class=\"dataframe\">\n",
       "  <thead>\n",
       "    <tr style=\"text-align: right;\">\n",
       "      <th></th>\n",
       "      <th>Unnamed: 0</th>\n",
       "      <th>Time</th>\n",
       "      <th>accel_x</th>\n",
       "      <th>accel_y</th>\n",
       "      <th>accel_z</th>\n",
       "      <th>gyro_x</th>\n",
       "      <th>gyro_y</th>\n",
       "      <th>gyro_z</th>\n",
       "    </tr>\n",
       "  </thead>\n",
       "  <tbody>\n",
       "    <tr>\n",
       "      <th>0</th>\n",
       "      <td>500</td>\n",
       "      <td>2022-07-26 15:45:01.916966</td>\n",
       "      <td>-1.8</td>\n",
       "      <td>-0.3</td>\n",
       "      <td>-0.9</td>\n",
       "      <td>-0.002</td>\n",
       "      <td>0.002</td>\n",
       "      <td>0.000</td>\n",
       "    </tr>\n",
       "    <tr>\n",
       "      <th>1</th>\n",
       "      <td>501</td>\n",
       "      <td>2022-07-26 15:45:01.937906</td>\n",
       "      <td>-0.7</td>\n",
       "      <td>-0.2</td>\n",
       "      <td>-0.6</td>\n",
       "      <td>0.000</td>\n",
       "      <td>0.000</td>\n",
       "      <td>0.000</td>\n",
       "    </tr>\n",
       "    <tr>\n",
       "      <th>2</th>\n",
       "      <td>502</td>\n",
       "      <td>2022-07-26 15:45:01.958856</td>\n",
       "      <td>0.0</td>\n",
       "      <td>0.0</td>\n",
       "      <td>0.0</td>\n",
       "      <td>0.001</td>\n",
       "      <td>-0.003</td>\n",
       "      <td>0.001</td>\n",
       "    </tr>\n",
       "    <tr>\n",
       "      <th>3</th>\n",
       "      <td>503</td>\n",
       "      <td>2022-07-26 15:45:01.980752</td>\n",
       "      <td>0.0</td>\n",
       "      <td>0.0</td>\n",
       "      <td>0.0</td>\n",
       "      <td>0.002</td>\n",
       "      <td>-0.004</td>\n",
       "      <td>0.001</td>\n",
       "    </tr>\n",
       "    <tr>\n",
       "      <th>4</th>\n",
       "      <td>504</td>\n",
       "      <td>2022-07-26 15:45:02.000344</td>\n",
       "      <td>0.6</td>\n",
       "      <td>0.2</td>\n",
       "      <td>-0.4</td>\n",
       "      <td>0.003</td>\n",
       "      <td>-0.004</td>\n",
       "      <td>0.001</td>\n",
       "    </tr>\n",
       "    <tr>\n",
       "      <th>5</th>\n",
       "      <td>505</td>\n",
       "      <td>2022-07-26 15:45:02.021289</td>\n",
       "      <td>0.5</td>\n",
       "      <td>0.4</td>\n",
       "      <td>0.1</td>\n",
       "      <td>0.003</td>\n",
       "      <td>-0.003</td>\n",
       "      <td>0.001</td>\n",
       "    </tr>\n",
       "    <tr>\n",
       "      <th>6</th>\n",
       "      <td>506</td>\n",
       "      <td>2022-07-26 15:45:02.045183</td>\n",
       "      <td>0.4</td>\n",
       "      <td>0.7</td>\n",
       "      <td>0.6</td>\n",
       "      <td>0.003</td>\n",
       "      <td>-0.002</td>\n",
       "      <td>0.001</td>\n",
       "    </tr>\n",
       "    <tr>\n",
       "      <th>7</th>\n",
       "      <td>507</td>\n",
       "      <td>2022-07-26 15:45:02.064132</td>\n",
       "      <td>0.6</td>\n",
       "      <td>0.8</td>\n",
       "      <td>0.9</td>\n",
       "      <td>0.002</td>\n",
       "      <td>0.000</td>\n",
       "      <td>0.000</td>\n",
       "    </tr>\n",
       "    <tr>\n",
       "      <th>8</th>\n",
       "      <td>508</td>\n",
       "      <td>2022-07-26 15:45:02.087233</td>\n",
       "      <td>0.5</td>\n",
       "      <td>0.7</td>\n",
       "      <td>0.6</td>\n",
       "      <td>0.001</td>\n",
       "      <td>0.000</td>\n",
       "      <td>-0.001</td>\n",
       "    </tr>\n",
       "    <tr>\n",
       "      <th>9</th>\n",
       "      <td>509</td>\n",
       "      <td>2022-07-26 15:45:02.106801</td>\n",
       "      <td>0.0</td>\n",
       "      <td>0.7</td>\n",
       "      <td>0.1</td>\n",
       "      <td>0.000</td>\n",
       "      <td>0.002</td>\n",
       "      <td>-0.002</td>\n",
       "    </tr>\n",
       "    <tr>\n",
       "      <th>10</th>\n",
       "      <td>510</td>\n",
       "      <td>2022-07-26 15:45:02.127002</td>\n",
       "      <td>-0.6</td>\n",
       "      <td>0.5</td>\n",
       "      <td>-0.2</td>\n",
       "      <td>-0.001</td>\n",
       "      <td>0.004</td>\n",
       "      <td>-0.002</td>\n",
       "    </tr>\n",
       "    <tr>\n",
       "      <th>11</th>\n",
       "      <td>511</td>\n",
       "      <td>2022-07-26 15:45:02.147947</td>\n",
       "      <td>-0.9</td>\n",
       "      <td>0.1</td>\n",
       "      <td>-0.2</td>\n",
       "      <td>-0.003</td>\n",
       "      <td>0.006</td>\n",
       "      <td>-0.002</td>\n",
       "    </tr>\n",
       "    <tr>\n",
       "      <th>12</th>\n",
       "      <td>512</td>\n",
       "      <td>2022-07-26 15:45:02.169852</td>\n",
       "      <td>-1.4</td>\n",
       "      <td>-0.2</td>\n",
       "      <td>-0.3</td>\n",
       "      <td>-0.004</td>\n",
       "      <td>0.007</td>\n",
       "      <td>-0.001</td>\n",
       "    </tr>\n",
       "    <tr>\n",
       "      <th>13</th>\n",
       "      <td>513</td>\n",
       "      <td>2022-07-26 15:45:02.191793</td>\n",
       "      <td>-1.4</td>\n",
       "      <td>-0.4</td>\n",
       "      <td>-0.5</td>\n",
       "      <td>-0.004</td>\n",
       "      <td>0.007</td>\n",
       "      <td>0.000</td>\n",
       "    </tr>\n",
       "    <tr>\n",
       "      <th>14</th>\n",
       "      <td>514</td>\n",
       "      <td>2022-07-26 15:45:02.211777</td>\n",
       "      <td>-1.7</td>\n",
       "      <td>-0.5</td>\n",
       "      <td>-0.5</td>\n",
       "      <td>-0.004</td>\n",
       "      <td>0.008</td>\n",
       "      <td>0.000</td>\n",
       "    </tr>\n",
       "  </tbody>\n",
       "</table>\n",
       "</div>"
      ],
      "text/plain": [
       "    Unnamed: 0                        Time  accel_x  accel_y  accel_z  gyro_x  \\\n",
       "0          500  2022-07-26 15:45:01.916966     -1.8     -0.3     -0.9  -0.002   \n",
       "1          501  2022-07-26 15:45:01.937906     -0.7     -0.2     -0.6   0.000   \n",
       "2          502  2022-07-26 15:45:01.958856      0.0      0.0      0.0   0.001   \n",
       "3          503  2022-07-26 15:45:01.980752      0.0      0.0      0.0   0.002   \n",
       "4          504  2022-07-26 15:45:02.000344      0.6      0.2     -0.4   0.003   \n",
       "5          505  2022-07-26 15:45:02.021289      0.5      0.4      0.1   0.003   \n",
       "6          506  2022-07-26 15:45:02.045183      0.4      0.7      0.6   0.003   \n",
       "7          507  2022-07-26 15:45:02.064132      0.6      0.8      0.9   0.002   \n",
       "8          508  2022-07-26 15:45:02.087233      0.5      0.7      0.6   0.001   \n",
       "9          509  2022-07-26 15:45:02.106801      0.0      0.7      0.1   0.000   \n",
       "10         510  2022-07-26 15:45:02.127002     -0.6      0.5     -0.2  -0.001   \n",
       "11         511  2022-07-26 15:45:02.147947     -0.9      0.1     -0.2  -0.003   \n",
       "12         512  2022-07-26 15:45:02.169852     -1.4     -0.2     -0.3  -0.004   \n",
       "13         513  2022-07-26 15:45:02.191793     -1.4     -0.4     -0.5  -0.004   \n",
       "14         514  2022-07-26 15:45:02.211777     -1.7     -0.5     -0.5  -0.004   \n",
       "\n",
       "    gyro_y  gyro_z  \n",
       "0    0.002   0.000  \n",
       "1    0.000   0.000  \n",
       "2   -0.003   0.001  \n",
       "3   -0.004   0.001  \n",
       "4   -0.004   0.001  \n",
       "5   -0.003   0.001  \n",
       "6   -0.002   0.001  \n",
       "7    0.000   0.000  \n",
       "8    0.000  -0.001  \n",
       "9    0.002  -0.002  \n",
       "10   0.004  -0.002  \n",
       "11   0.006  -0.002  \n",
       "12   0.007  -0.001  \n",
       "13   0.007   0.000  \n",
       "14   0.008   0.000  "
      ]
     },
     "execution_count": 15,
     "metadata": {},
     "output_type": "execute_result"
    }
   ],
   "source": [
    "df.head(15)"
   ]
  },
  {
   "cell_type": "code",
   "execution_count": 16,
   "metadata": {},
   "outputs": [
    {
     "data": {
      "text/plain": [
       "Unnamed: 0                           749\n",
       "Time          2022-07-26 15:45:07.159262\n",
       "accel_x                              2.1\n",
       "accel_y                              0.9\n",
       "accel_z                              0.9\n",
       "gyro_x                             0.005\n",
       "gyro_y                             0.012\n",
       "gyro_z                             0.003\n",
       "dtype: object"
      ]
     },
     "execution_count": 16,
     "metadata": {},
     "output_type": "execute_result"
    }
   ],
   "source": [
    "df.max()"
   ]
  },
  {
   "cell_type": "code",
   "execution_count": 56,
   "metadata": {},
   "outputs": [],
   "source": [
    "df = pd.read_csv(\"/data/lab_action/sensor_csv/A0_마이쭈_1.csv\")"
   ]
  },
  {
   "cell_type": "code",
   "execution_count": 57,
   "metadata": {},
   "outputs": [
    {
     "data": {
      "text/plain": [
       "Unnamed: 0                           749\n",
       "Time          2022-07-26 16:27:20.103739\n",
       "accel_x                             16.5\n",
       "accel_y                             12.0\n",
       "accel_z                             13.3\n",
       "gyro_x                             0.045\n",
       "gyro_y                             0.041\n",
       "gyro_z                             0.019\n",
       "dtype: object"
      ]
     },
     "execution_count": 57,
     "metadata": {},
     "output_type": "execute_result"
    }
   ],
   "source": [
    "df.max()"
   ]
  },
  {
   "cell_type": "code",
   "execution_count": 58,
   "metadata": {},
   "outputs": [
    {
     "data": {
      "text/plain": [
       "Unnamed: 0                           500\n",
       "Time          2022-07-26 16:27:14.845008\n",
       "accel_x                            -13.1\n",
       "accel_y                            -15.4\n",
       "accel_z                            -17.4\n",
       "gyro_x                            -0.072\n",
       "gyro_y                            -0.041\n",
       "gyro_z                            -0.041\n",
       "dtype: object"
      ]
     },
     "execution_count": 58,
     "metadata": {},
     "output_type": "execute_result"
    }
   ],
   "source": [
    "df.min()"
   ]
  },
  {
   "cell_type": "code",
   "execution_count": 55,
   "metadata": {},
   "outputs": [
    {
     "data": {
      "text/plain": [
       "Unnamed: 0                          2249\n",
       "Time          2022-07-26 15:42:04.228374\n",
       "accel_x                             11.9\n",
       "accel_y                             36.5\n",
       "accel_z                            108.4\n",
       "gyro_x                             0.106\n",
       "gyro_y                             0.105\n",
       "gyro_z                             0.039\n",
       "dtype: object"
      ]
     },
     "execution_count": 55,
     "metadata": {},
     "output_type": "execute_result"
    }
   ],
   "source": [
    "df = pd.read_csv(\"/data/lab_action/sensor_csv/A4_가욤_4.csv\")\n",
    "df.max()"
   ]
  },
  {
   "cell_type": "code",
   "execution_count": 53,
   "metadata": {},
   "outputs": [
    {
     "data": {
      "text/plain": [
       "(250, 8)"
      ]
     },
     "execution_count": 53,
     "metadata": {},
     "output_type": "execute_result"
    }
   ],
   "source": [
    "df.shape"
   ]
  },
  {
   "cell_type": "code",
   "execution_count": 13,
   "metadata": {},
   "outputs": [
    {
     "data": {
      "text/plain": [
       "Unnamed: 0                          2249\n",
       "Time          2022-07-26 17:15:50.149525\n",
       "accel_x                             36.1\n",
       "accel_y                             35.7\n",
       "accel_z                             28.5\n",
       "gyro_x                             0.178\n",
       "gyro_y                             0.418\n",
       "gyro_z                             0.689\n",
       "dtype: object"
      ]
     },
     "execution_count": 13,
     "metadata": {},
     "output_type": "execute_result"
    }
   ],
   "source": [
    "df = pd.read_csv(\"/data/lab_action/sensor_csv/A1_재영_4.csv\")\n",
    "df.max()"
   ]
  },
  {
   "cell_type": "code",
   "execution_count": 49,
   "metadata": {},
   "outputs": [
    {
     "data": {
      "text/plain": [
       "<matplotlib.image.AxesImage at 0x7f6a30c75ee0>"
      ]
     },
     "execution_count": 49,
     "metadata": {},
     "output_type": "execute_result"
    },
    {
     "data": {
      "image/png": "[encoded data removed]",
      "text/plain": [
       "<Figure size 432x288 with 1 Axes>"
      ]
     },
     "metadata": {
      "needs_background": "light"
     },
     "output_type": "display_data"
    }
   ],
   "source": [
    "image = plt.imread(\"/data/lab_action/dataset/train/문현/A2/2/15.jpg\")\n",
    "plt.imshow(image)"
   ]
  },
  {
   "cell_type": "code",
   "execution_count": null,
   "metadata": {},
   "outputs": [],
   "source": []
  }
 ],
 "metadata": {
  "kernelspec": {
   "display_name": "Python 3.8.13 ('torch')",
   "language": "python",
   "name": "python3"
  },
  "language_info": {
   "codemirror_mode": {
    "name": "ipython",
    "version": 3
   },
   "file_extension": ".py",
   "mimetype": "text/x-python",
   "name": "python",
   "nbconvert_exporter": "python",
   "pygments_lexer": "ipython3",
   "version": "3.8.13"
  },
  "orig_nbformat": 4,
  "vscode": {
   "interpreter": {
    "hash": "cf8dc2bd8c9a6cf8b1b2d240622c68735699ce3e92c67e80c154b0de046ace10"
   }
  }
 },
 "nbformat": 4,
 "nbformat_minor": 2
}
